{
 "cells": [
  {
   "cell_type": "code",
   "execution_count": 11,
   "metadata": {},
   "outputs": [],
   "source": [
    "import os\n",
    "import pathlib\n",
    "\n",
    "if pathlib.Path(os.curdir).resolve().name != \"DeepAWB\":\n",
    "    os.chdir(\"..\")"
   ]
  },
  {
   "cell_type": "code",
   "execution_count": null,
   "metadata": {},
   "outputs": [],
   "source": [
    "from tqdm.notebook import tqdm\n",
    "\n",
    "from src import DATASET_DIR\n",
    "from src.visualization.image_visualization import image_processing_pipeline\n",
    "\n",
    "for folder in [\"train\", \"test\"]:\n",
    "    current_folder = DATASET_DIR / folder\n",
    "\n",
    "    unprocessed_images = (current_folder / \"PNG\").iterdir()\n",
    "\n",
    "    for processing_strategy, wb_gains in zip([\"PROCESSED_UNIFORM\", \"PROCESSED_MLE\"], [(1, 1), (0.425, 0.7)]):\n",
    "        processed_save_folder = current_folder / processing_strategy\n",
    "        processed_save_folder.mkdir(exist_ok=True)\n",
    "\n",
    "        for unprocessed_image_path in tqdm(list(unprocessed_images)):\n",
    "            output_path = processed_save_folder / unprocessed_image_path.name\n",
    "            if output_path.exists():\n",
    "                continue\n",
    "            image_processing_pipeline(unprocessed_image_path, output_path, wb_gains=wb_gains)\n"
   ]
  }
 ],
 "metadata": {
  "kernelspec": {
   "display_name": "ai",
   "language": "python",
   "name": "python3"
  },
  "language_info": {
   "codemirror_mode": {
    "name": "ipython",
    "version": 3
   },
   "file_extension": ".py",
   "mimetype": "text/x-python",
   "name": "python",
   "nbconvert_exporter": "python",
   "pygments_lexer": "ipython3",
   "version": "3.12.5"
  }
 },
 "nbformat": 4,
 "nbformat_minor": 2
}
