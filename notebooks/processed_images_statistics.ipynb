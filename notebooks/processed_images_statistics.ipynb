{
 "cells": [
  {
   "cell_type": "code",
   "execution_count": 34,
   "metadata": {},
   "outputs": [],
   "source": [
    "import os\n",
    "import pathlib\n",
    "\n",
    "if pathlib.Path(os.curdir).resolve().name != \"DeepAWB\":\n",
    "    os.chdir(\"..\")"
   ]
  },
  {
   "cell_type": "code",
   "execution_count": 37,
   "metadata": {},
   "outputs": [],
   "source": [
    "import src.deep_awb.data_loaders as data_loaders\n",
    "import importlib\n",
    "importlib.reload(data_loaders)\n",
    "\n",
    "data_loaders.SimpleCubePPDatasetInfo.setup()"
   ]
  },
  {
   "cell_type": "code",
   "execution_count": 48,
   "metadata": {},
   "outputs": [],
   "source": [
    "dataset = data_loaders.get_train_dataset(folder=\"PNG\")\n",
    "image_names = dataset.annotations[\"image\"]\n",
    "images_paths = [dataset.images_dir / (image_name + \".png\") for image_name in image_names]\n",
    "\n",
    "assert images_paths[0].exists()"
   ]
  },
  {
   "cell_type": "code",
   "execution_count": null,
   "metadata": {},
   "outputs": [],
   "source": [
    "import PIL.Image\n",
    "import torch\n",
    "import PIL\n",
    "import numpy as np\n",
    "from albumentations.pytorch import ToTensorV2\n",
    "\n",
    "toTensorV2 = ToTensorV2()\n",
    "mean, std = torch.zeros(3), torch.zeros(3)\n",
    "\n",
    "for image_path in images_paths:\n",
    "    image = PIL.Image.open(image_path).convert(\"RGB\")\n",
    "    image_np = np.frombuffer(image.tobytes(), dtype=np.uint8)\n",
    "    image_np = (image_np.reshape((image.height, image.width, 3))).astype(np.float32) / 255.0\n",
    "\n",
    "    image = toTensorV2(image=image_np)[\"image\"]\n",
    "\n",
    "    mean += image.mean(dim=(1, 2))\n",
    "    std += image.std(dim=(1, 2))\n",
    "\n",
    "mean /= len(dataset)\n",
    "std /= len(dataset)\n",
    "\n",
    "mean, std"
   ]
  },
  {
   "cell_type": "markdown",
   "metadata": {},
   "source": [
    "## Mean and Std\n",
    "\n",
    "- MLE; train set: (tensor([0.4373, 0.3857, 0.3163]), tensor([0.2495, 0.2281, 0.2024]))\n",
    "- Uniform; train set: (tensor([0.0954, 0.4912, 0.2624]), tensor([0.0917, 0.2781, 0.1800]))\n"
   ]
  }
 ],
 "metadata": {
  "kernelspec": {
   "display_name": "ai",
   "language": "python",
   "name": "python3"
  },
  "language_info": {
   "codemirror_mode": {
    "name": "ipython",
    "version": 3
   },
   "file_extension": ".py",
   "mimetype": "text/x-python",
   "name": "python",
   "nbconvert_exporter": "python",
   "pygments_lexer": "ipython3",
   "version": "3.12.5"
  }
 },
 "nbformat": 4,
 "nbformat_minor": 2
}
