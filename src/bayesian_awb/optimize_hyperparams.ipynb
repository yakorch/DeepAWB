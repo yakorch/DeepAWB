{
 "cells": [
  {
   "cell_type": "code",
   "execution_count": 1,
   "metadata": {},
   "outputs": [],
   "source": [
    "import os\n",
    "import pathlib\n",
    "\n",
    "while pathlib.Path(os.curdir).resolve().name != \"DeepAWB\":\n",
    "    os.chdir(\"..\")\n",
    "\n",
    "%load_ext autoreload\n",
    "%autoreload 2"
   ]
  },
  {
   "cell_type": "code",
   "execution_count": 15,
   "metadata": {},
   "outputs": [
    {
     "name": "stderr",
     "output_type": "stream",
     "text": [
      "\u001b[32m2024-09-21 15:15:37.706\u001b[0m | \u001b[33m\u001b[1mWARNING \u001b[0m | \u001b[36msrc.deep_awb.data_loaders\u001b[0m:\u001b[36msetup\u001b[0m:\u001b[36m101\u001b[0m - \u001b[33m\u001b[1mCalled `setup` with image_scale=1 when it was already set to self._image_scale=1\u001b[0m\n"
     ]
    }
   ],
   "source": [
    "from src import RAW_TEST_IMAGES_FOLDER, RAW_TRAIN_IMAGES_FOLDER\n",
    "from src.bayesian_awb.bayesian_awb_algorithm import perform_bayes_AWB\n",
    "from src.deep_awb.data_loaders import SimpleCubePPDatasetInfo, get_test_dataset, get_train_dataset\n",
    "\n",
    "SimpleCubePPDatasetInfo.setup()\n",
    "annotations = get_train_dataset().annotations\n",
    "image_names = annotations[\"image\"].values + \".png\"\n",
    "gt_gains = annotations[[\"R/G\", \"B/G\"]].values"
   ]
  },
  {
   "cell_type": "code",
   "execution_count": 3,
   "metadata": {},
   "outputs": [],
   "source": [
    "import pathlib\n",
    "\n",
    "import tqdm.notebook as tqdm\n",
    "\n",
    "\n",
    "def compute_average_MSE_loss(image_paths: list[pathlib.Path], gt_gains, min_avg_G, max_delta_squared) -> float:\n",
    "    assert len(image_paths) == len(gt_gains)\n",
    "    MSE_total = 0\n",
    "    for i in tqdm.trange(len(image_paths)):\n",
    "        image_path, gt_gain = image_paths[i], gt_gains[i]\n",
    "        r_gain, b_gain = perform_bayes_AWB(image_path, min_avg_G, max_delta_squared)\n",
    "        MSE_total += (r_gain - gt_gain[0]) ** 2 + (b_gain - gt_gain[1]) ** 2\n",
    "    return MSE_total / len(image_paths)"
   ]
  },
  {
   "cell_type": "code",
   "execution_count": 4,
   "metadata": {},
   "outputs": [
    {
     "data": {
      "application/vnd.jupyter.widget-view+json": {
       "model_id": "dce273afeb5a4c79973bcd80f766f85a",
       "version_major": 2,
       "version_minor": 0
      },
      "text/plain": [
       "  0%|          | 0/1772 [00:00<?, ?it/s]"
      ]
     },
     "metadata": {},
     "output_type": "display_data"
    },
    {
     "data": {
      "application/vnd.jupyter.widget-view+json": {
       "model_id": "adedccfd98df4d83bd2149edc44d327b",
       "version_major": 2,
       "version_minor": 0
      },
      "text/plain": [
       "  0%|          | 0/1772 [00:00<?, ?it/s]"
      ]
     },
     "metadata": {},
     "output_type": "display_data"
    },
    {
     "data": {
      "application/vnd.jupyter.widget-view+json": {
       "model_id": "ce957d482b05482d9584ca129129b975",
       "version_major": 2,
       "version_minor": 0
      },
      "text/plain": [
       "  0%|          | 0/1772 [00:00<?, ?it/s]"
      ]
     },
     "metadata": {},
     "output_type": "display_data"
    },
    {
     "data": {
      "application/vnd.jupyter.widget-view+json": {
       "model_id": "c03e841ba0ed47f78d8ca823e1abe3c8",
       "version_major": 2,
       "version_minor": 0
      },
      "text/plain": [
       "  0%|          | 0/1772 [00:00<?, ?it/s]"
      ]
     },
     "metadata": {},
     "output_type": "display_data"
    },
    {
     "data": {
      "application/vnd.jupyter.widget-view+json": {
       "model_id": "da06da21e0994375b67be37142304948",
       "version_major": 2,
       "version_minor": 0
      },
      "text/plain": [
       "  0%|          | 0/1772 [00:00<?, ?it/s]"
      ]
     },
     "metadata": {},
     "output_type": "display_data"
    },
    {
     "data": {
      "application/vnd.jupyter.widget-view+json": {
       "model_id": "3b6bd708b33248a4a2e1a07ff7a03469",
       "version_major": 2,
       "version_minor": 0
      },
      "text/plain": [
       "  0%|          | 0/1772 [00:00<?, ?it/s]"
      ]
     },
     "metadata": {},
     "output_type": "display_data"
    },
    {
     "data": {
      "application/vnd.jupyter.widget-view+json": {
       "model_id": "e5ba8faa9a234357a28d0f271dd0c110",
       "version_major": 2,
       "version_minor": 0
      },
      "text/plain": [
       "  0%|          | 0/1772 [00:00<?, ?it/s]"
      ]
     },
     "metadata": {},
     "output_type": "display_data"
    },
    {
     "data": {
      "application/vnd.jupyter.widget-view+json": {
       "model_id": "8ebce343611a40acbdc7e86596be0aa8",
       "version_major": 2,
       "version_minor": 0
      },
      "text/plain": [
       "  0%|          | 0/1772 [00:00<?, ?it/s]"
      ]
     },
     "metadata": {},
     "output_type": "display_data"
    },
    {
     "data": {
      "application/vnd.jupyter.widget-view+json": {
       "model_id": "a30a3d7663cc484fba7da104accf1998",
       "version_major": 2,
       "version_minor": 0
      },
      "text/plain": [
       "  0%|          | 0/1772 [00:00<?, ?it/s]"
      ]
     },
     "metadata": {},
     "output_type": "display_data"
    },
    {
     "data": {
      "application/vnd.jupyter.widget-view+json": {
       "model_id": "fe4fddd52e084477bea1083a125d015c",
       "version_major": 2,
       "version_minor": 0
      },
      "text/plain": [
       "  0%|          | 0/1772 [00:00<?, ?it/s]"
      ]
     },
     "metadata": {},
     "output_type": "display_data"
    },
    {
     "data": {
      "application/vnd.jupyter.widget-view+json": {
       "model_id": "8df7f38f48d340e48cbe27d3e3edc49b",
       "version_major": 2,
       "version_minor": 0
      },
      "text/plain": [
       "  0%|          | 0/1772 [00:00<?, ?it/s]"
      ]
     },
     "metadata": {},
     "output_type": "display_data"
    },
    {
     "data": {
      "application/vnd.jupyter.widget-view+json": {
       "model_id": "69dc058206e44243868017ce0577bd0b",
       "version_major": 2,
       "version_minor": 0
      },
      "text/plain": [
       "  0%|          | 0/1772 [00:00<?, ?it/s]"
      ]
     },
     "metadata": {},
     "output_type": "display_data"
    }
   ],
   "source": [
    "import pandas as pd\n",
    "\n",
    "image_paths = [RAW_TRAIN_IMAGES_FOLDER / image_name for image_name in image_names]\n",
    "\n",
    "experiments = pd.DataFrame(columns=[\"min_avg_G\", \"max_delta_squared\", \"MSE_loss\"])\n",
    "\n",
    "for min_avg_G in [0.0001, 0.001, 0.005]:\n",
    "    for max_delta_squared in [0.1, 0.15, 0.25, 0.35]:\n",
    "        MSE_loss = compute_average_MSE_loss(image_paths, gt_gains, min_avg_G, max_delta_squared)\n",
    "        experiments.loc[len(experiments)] = [min_avg_G, max_delta_squared, MSE_loss]"
   ]
  },
  {
   "cell_type": "code",
   "execution_count": 10,
   "metadata": {},
   "outputs": [
    {
     "data": {
      "text/html": [
       "<div>\n",
       "<style scoped>\n",
       "    .dataframe tbody tr th:only-of-type {\n",
       "        vertical-align: middle;\n",
       "    }\n",
       "\n",
       "    .dataframe tbody tr th {\n",
       "        vertical-align: top;\n",
       "    }\n",
       "\n",
       "    .dataframe thead th {\n",
       "        text-align: right;\n",
       "    }\n",
       "</style>\n",
       "<table border=\"1\" class=\"dataframe\">\n",
       "  <thead>\n",
       "    <tr style=\"text-align: right;\">\n",
       "      <th></th>\n",
       "      <th>min_avg_G</th>\n",
       "      <th>max_delta_squared</th>\n",
       "      <th>MSE_loss</th>\n",
       "    </tr>\n",
       "  </thead>\n",
       "  <tbody>\n",
       "    <tr>\n",
       "      <th>8</th>\n",
       "      <td>0.0050</td>\n",
       "      <td>0.10</td>\n",
       "      <td>0.011750</td>\n",
       "    </tr>\n",
       "    <tr>\n",
       "      <th>11</th>\n",
       "      <td>0.0050</td>\n",
       "      <td>0.35</td>\n",
       "      <td>0.011802</td>\n",
       "    </tr>\n",
       "    <tr>\n",
       "      <th>10</th>\n",
       "      <td>0.0050</td>\n",
       "      <td>0.25</td>\n",
       "      <td>0.011803</td>\n",
       "    </tr>\n",
       "    <tr>\n",
       "      <th>4</th>\n",
       "      <td>0.0010</td>\n",
       "      <td>0.10</td>\n",
       "      <td>0.011829</td>\n",
       "    </tr>\n",
       "    <tr>\n",
       "      <th>0</th>\n",
       "      <td>0.0001</td>\n",
       "      <td>0.10</td>\n",
       "      <td>0.011832</td>\n",
       "    </tr>\n",
       "    <tr>\n",
       "      <th>6</th>\n",
       "      <td>0.0010</td>\n",
       "      <td>0.25</td>\n",
       "      <td>0.011890</td>\n",
       "    </tr>\n",
       "    <tr>\n",
       "      <th>7</th>\n",
       "      <td>0.0010</td>\n",
       "      <td>0.35</td>\n",
       "      <td>0.011895</td>\n",
       "    </tr>\n",
       "    <tr>\n",
       "      <th>9</th>\n",
       "      <td>0.0050</td>\n",
       "      <td>0.15</td>\n",
       "      <td>0.011897</td>\n",
       "    </tr>\n",
       "    <tr>\n",
       "      <th>2</th>\n",
       "      <td>0.0001</td>\n",
       "      <td>0.25</td>\n",
       "      <td>0.011900</td>\n",
       "    </tr>\n",
       "    <tr>\n",
       "      <th>3</th>\n",
       "      <td>0.0001</td>\n",
       "      <td>0.35</td>\n",
       "      <td>0.011901</td>\n",
       "    </tr>\n",
       "    <tr>\n",
       "      <th>1</th>\n",
       "      <td>0.0001</td>\n",
       "      <td>0.15</td>\n",
       "      <td>0.011997</td>\n",
       "    </tr>\n",
       "    <tr>\n",
       "      <th>5</th>\n",
       "      <td>0.0010</td>\n",
       "      <td>0.15</td>\n",
       "      <td>0.012012</td>\n",
       "    </tr>\n",
       "  </tbody>\n",
       "</table>\n",
       "</div>"
      ],
      "text/plain": [
       "    min_avg_G  max_delta_squared  MSE_loss\n",
       "8      0.0050               0.10  0.011750\n",
       "11     0.0050               0.35  0.011802\n",
       "10     0.0050               0.25  0.011803\n",
       "4      0.0010               0.10  0.011829\n",
       "0      0.0001               0.10  0.011832\n",
       "6      0.0010               0.25  0.011890\n",
       "7      0.0010               0.35  0.011895\n",
       "9      0.0050               0.15  0.011897\n",
       "2      0.0001               0.25  0.011900\n",
       "3      0.0001               0.35  0.011901\n",
       "1      0.0001               0.15  0.011997\n",
       "5      0.0010               0.15  0.012012"
      ]
     },
     "execution_count": 10,
     "metadata": {},
     "output_type": "execute_result"
    }
   ],
   "source": [
    "experiments.sort_values(\"MSE_loss\")"
   ]
  },
  {
   "cell_type": "markdown",
   "metadata": {},
   "source": [
    "### The best hyperparameters are `min_avg_G` = $0.005$ and `max_delta_squared` = $0.1$.\n"
   ]
  },
  {
   "cell_type": "code",
   "execution_count": 16,
   "metadata": {},
   "outputs": [
    {
     "data": {
      "application/vnd.jupyter.widget-view+json": {
       "model_id": "33ade6ae056a4e9da642521cb347cd69",
       "version_major": 2,
       "version_minor": 0
      },
      "text/plain": [
       "  0%|          | 0/462 [00:00<?, ?it/s]"
      ]
     },
     "metadata": {},
     "output_type": "display_data"
    }
   ],
   "source": [
    "min_avg_G, max_delta_squared = 0.005, 0.1\n",
    "\n",
    "annotations = get_test_dataset().annotations\n",
    "image_names = annotations[\"image\"].values + \".png\"\n",
    "gt_gains = annotations[[\"R/G\", \"B/G\"]].values\n",
    "\n",
    "MSE_loss = compute_average_MSE_loss([RAW_TEST_IMAGES_FOLDER / image_name for image_name in image_names], gt_gains, min_avg_G, max_delta_squared)"
   ]
  },
  {
   "cell_type": "markdown",
   "metadata": {},
   "source": [
    "# Test MSE loss:\n"
   ]
  },
  {
   "cell_type": "code",
   "execution_count": 19,
   "metadata": {},
   "outputs": [
    {
     "data": {
      "text/plain": [
       "0.014168253541418936"
      ]
     },
     "execution_count": 19,
     "metadata": {},
     "output_type": "execute_result"
    }
   ],
   "source": [
    "MSE_loss"
   ]
  }
 ],
 "metadata": {
  "kernelspec": {
   "display_name": "ai",
   "language": "python",
   "name": "python3"
  },
  "language_info": {
   "codemirror_mode": {
    "name": "ipython",
    "version": 3
   },
   "file_extension": ".py",
   "mimetype": "text/x-python",
   "name": "python",
   "nbconvert_exporter": "python",
   "pygments_lexer": "ipython3",
   "version": "3.12.5"
  }
 },
 "nbformat": 4,
 "nbformat_minor": 2
}
